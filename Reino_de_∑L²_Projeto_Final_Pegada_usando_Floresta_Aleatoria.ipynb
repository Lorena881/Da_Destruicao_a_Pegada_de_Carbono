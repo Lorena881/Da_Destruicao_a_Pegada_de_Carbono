{
 "cells": [
  {
   "cell_type": "markdown",
   "id": "b86e5fba",
   "metadata": {},
   "source": [
    "# ♻️Lore Reino de ∑L²:\n",
    "\n",
    "∑L² significa Eco(logical) Learning, que deriva também dos três governadores da cidade Eloisa, Lorena e Lucas. No Reino de ∑L² a Lógica é preservar de modo a treinar, ensinar e aplicar métodos para que todo o seu povo saiba como ser mais eco(lógico), preservando o reino em que habitam para então poderem viajar para outros reinos e disseminarem a palavra da lógica ecológica, ou seja, do uso consciente dos recursos, da preservação dos reinos, da convivência harmonioza com a natureza. Além disso, com os conhecimentos e treinamentos passados aos habitantes de ∑L² eles adquirem a habilidade de predizerem alguns eventos ambientais a partir de alguns dados que coletam em certo tempo, de modo a poderem a ajudar o seu próprio reino e outros a previnirem catástrofes, saberem como remediá-las ou evitarem o aumento de eventos negativos aos ecossistemas. Para tornarem as suas predições ainda mais confiáveis e precisas os habitantes podem aprender a partir de diferentes metodologias, podendo ser supervisionados ou não, mas para as etapas inciais os governadores preferem o método supervisionado utilizando da Regressão do ambiente."
   ]
  },
  {
   "cell_type": "markdown",
   "id": "24184c93",
   "metadata": {},
   "source": [
    "# ❓Hipótese\n",
    "\n",
    "Seria possivel treinar um bom modelo de Aprendizagem de Máquina que a partir de dados usualmente coletados para calcular a pegada de carbono(área agrícola, área de pastagem, área florestal, área de pesca e áreas construídas) preveja o valor da pega ecológica total de um local. Além de demonstrar quais atributos tem maior importância para essa predição."
   ]
  },
  {
   "cell_type": "markdown",
   "id": "6900a282",
   "metadata": {},
   "source": [
    "# 📝Introdução\n",
    "\n",
    "Após algumas análises, decidiu-se utilizar o modelo de Floresta Aleatória para buscar responder a hipótese de que seria possível criar um bom modelo de aprendizagem de máquina para calcular a pegada ecológica total. O algoritmo da Floresta Aleatória recebe esse nome pois é composto por diversas árvores de decisão, sendo a partir disso o termo \"floresta\", já o \"aleatório\" vem do fato da construção dessas árvores envolver um processo de amostragem dos exemplos e dos atributos. Esse algoritmo é uma técnica usada para compensar a baixa performance das árvores de decisão, por isso usa-se diversas árvores. Assim o método que recebe o nome de 'ensemble' combina a previsão de vários modelos (de várias árvores), com a expectativa de que ao combinar modelos com alto viés e baixa variância chegue em um modelo com uma variância maior e um viés menor.[1]\n",
    "\n",
    "A Floresta Aleatória tem os mesmos hiperparâmetros (valores que não podem ser alterados durante o treinamento) que a Árvore de Decisão: `max_leaf_nodes` - número máximo de vértices raiz-, `max_depth` - profundidade máxima-, `min_samples_split`- mínimo de exemplos-, `min_samples_leaf`-mínimo de exemplos de folhas, dentre outros. Além disso, tem adendo de dois hiperparâmetros importantes:`num_estimators` e `max_features`, o primeiro determina o número de árvores que irão compor o modelo, já o segundo determina o valor máximo dado aos atributos a cada condicional de um vértice.[2] [3]\n",
    "\n",
    "Também foi utilizado o Optuna, um otimizador de hiperparâmetros utilizado para tentar encontrar os melhores hiperparâmetros numéricos e categóricos, ou seja, fornece métodos mais eficiêntes de busca do que a busca aleatória e a busca em grade. Dessa forma, o Optuna auxilia na busca pelos melhores hiperparâmetros, o que é essencial para os modelos.[4] Vale ressaltar, que o Optuna não é totalmente reprodutível, visto que cria diferentes combinações de hiperparâmetros a cada vez que roda a função, mas tem o benefício de poder salvar todos esses dados em documentos, que podem facilmente serem acessados. Há meios de tornar os dados obtidos pelo Optuna mais reprodutíveis, também meios de não se prejudicar a memória e desempenho do computador.[5] Por fim, vale destacar que foi utilizado divisão dos dados entre dados de treino e de teste e de validação cruzada para auxiliar a ter um melhor modelo, tomando como base o artigo \"Model Evaluation, Model Selection, and Algorithm Selection in Machine Learning\", do Sebastian Raschka. [6]"
   ]
  },
  {
   "cell_type": "markdown",
   "id": "36efc8e9",
   "metadata": {},
   "source": [
    "# 💻Desenvolvimento\n",
    "\n",
    "### Ajustando o DataFrame\n",
    "\n",
    "Primeiro foi importando o DataFrame escolhido, sendo ele o DataFrame de NFA(National Footprint Accounts, ou Contagem da Pegada Ecológica Nacional) - mais detalhes sobre ele, está na pasta Explicação teórica.md do GitHub do Projeto. "
   ]
  },
  {
   "cell_type": "code",
   "execution_count": 1,
   "id": "73605a48",
   "metadata": {},
   "outputs": [],
   "source": [
    "import os "
   ]
  },
  {
   "cell_type": "code",
   "execution_count": 2,
   "id": "a99f389a",
   "metadata": {},
   "outputs": [
    {
     "data": {
      "text/plain": [
       "'C:\\\\Users\\\\lorena24014\\\\Downloads\\\\Aprendizado de Máquina'"
      ]
     },
     "execution_count": 2,
     "metadata": {},
     "output_type": "execute_result"
    }
   ],
   "source": [
    "os.getcwd()"
   ]
  },
  {
   "cell_type": "markdown",
   "id": "b160e1b1",
   "metadata": {},
   "source": [
    "Encontrando o local que está o diretório,  utilizou-se a biblioteca `pandas` para fazer a leitura e tratamento do dataset, como remoção das linhas com dados faltantes(NaN e NA) utilizando o $dropna()$."
   ]
  },
  {
   "cell_type": "code",
   "execution_count": 3,
   "id": "c5d865c0",
   "metadata": {},
   "outputs": [
    {
     "data": {
      "text/html": [
       "<div>\n",
       "<style scoped>\n",
       "    .dataframe tbody tr th:only-of-type {\n",
       "        vertical-align: middle;\n",
       "    }\n",
       "\n",
       "    .dataframe tbody tr th {\n",
       "        vertical-align: top;\n",
       "    }\n",
       "\n",
       "    .dataframe thead th {\n",
       "        text-align: right;\n",
       "    }\n",
       "</style>\n",
       "<table border=\"1\" class=\"dataframe\">\n",
       "  <thead>\n",
       "    <tr style=\"text-align: right;\">\n",
       "      <th></th>\n",
       "      <th>index</th>\n",
       "      <th>country</th>\n",
       "      <th>year</th>\n",
       "      <th>country_code</th>\n",
       "      <th>record</th>\n",
       "      <th>crop_land</th>\n",
       "      <th>grazing_land</th>\n",
       "      <th>forest_land</th>\n",
       "      <th>fishing_ground</th>\n",
       "      <th>built_up_land</th>\n",
       "      <th>carbon</th>\n",
       "      <th>total</th>\n",
       "      <th>QScore</th>\n",
       "    </tr>\n",
       "  </thead>\n",
       "  <tbody>\n",
       "    <tr>\n",
       "      <th>0</th>\n",
       "      <td>0</td>\n",
       "      <td>Armenia</td>\n",
       "      <td>1992</td>\n",
       "      <td>1</td>\n",
       "      <td>AreaPerCap</td>\n",
       "      <td>0.140020</td>\n",
       "      <td>0.199159</td>\n",
       "      <td>0.097000</td>\n",
       "      <td>3.681693e-02</td>\n",
       "      <td>0.029258</td>\n",
       "      <td>0.000000</td>\n",
       "      <td>5.022540e-01</td>\n",
       "      <td>5</td>\n",
       "    </tr>\n",
       "    <tr>\n",
       "      <th>1</th>\n",
       "      <td>1</td>\n",
       "      <td>Armenia</td>\n",
       "      <td>1992</td>\n",
       "      <td>1</td>\n",
       "      <td>AreaTotHA</td>\n",
       "      <td>483000.000000</td>\n",
       "      <td>687000.000000</td>\n",
       "      <td>334600.000000</td>\n",
       "      <td>1.270000e+05</td>\n",
       "      <td>100925.003052</td>\n",
       "      <td>0.000000</td>\n",
       "      <td>1.732525e+06</td>\n",
       "      <td>5</td>\n",
       "    </tr>\n",
       "    <tr>\n",
       "      <th>2</th>\n",
       "      <td>2</td>\n",
       "      <td>Armenia</td>\n",
       "      <td>1992</td>\n",
       "      <td>1</td>\n",
       "      <td>BiocapPerCap</td>\n",
       "      <td>0.276531</td>\n",
       "      <td>0.134892</td>\n",
       "      <td>0.083839</td>\n",
       "      <td>1.370460e-02</td>\n",
       "      <td>0.057782</td>\n",
       "      <td>0.000000</td>\n",
       "      <td>5.667493e-01</td>\n",
       "      <td>5</td>\n",
       "    </tr>\n",
       "    <tr>\n",
       "      <th>3</th>\n",
       "      <td>3</td>\n",
       "      <td>Armenia</td>\n",
       "      <td>1992</td>\n",
       "      <td>1</td>\n",
       "      <td>BiocapTotGHA</td>\n",
       "      <td>953895.034844</td>\n",
       "      <td>465308.532841</td>\n",
       "      <td>289203.573356</td>\n",
       "      <td>4.727402e+04</td>\n",
       "      <td>199320.619674</td>\n",
       "      <td>0.000000</td>\n",
       "      <td>1.955002e+06</td>\n",
       "      <td>5</td>\n",
       "    </tr>\n",
       "    <tr>\n",
       "      <th>4</th>\n",
       "      <td>4</td>\n",
       "      <td>Armenia</td>\n",
       "      <td>1992</td>\n",
       "      <td>1</td>\n",
       "      <td>EFConsPerCap</td>\n",
       "      <td>0.477412</td>\n",
       "      <td>0.175880</td>\n",
       "      <td>0.000001</td>\n",
       "      <td>4.113147e-03</td>\n",
       "      <td>0.057782</td>\n",
       "      <td>1.097617</td>\n",
       "      <td>1.812806e+00</td>\n",
       "      <td>5</td>\n",
       "    </tr>\n",
       "    <tr>\n",
       "      <th>...</th>\n",
       "      <td>...</td>\n",
       "      <td>...</td>\n",
       "      <td>...</td>\n",
       "      <td>...</td>\n",
       "      <td>...</td>\n",
       "      <td>...</td>\n",
       "      <td>...</td>\n",
       "      <td>...</td>\n",
       "      <td>...</td>\n",
       "      <td>...</td>\n",
       "      <td>...</td>\n",
       "      <td>...</td>\n",
       "      <td>...</td>\n",
       "    </tr>\n",
       "    <tr>\n",
       "      <th>99355</th>\n",
       "      <td>99355</td>\n",
       "      <td>Vanuatu</td>\n",
       "      <td>2013</td>\n",
       "      <td>155</td>\n",
       "      <td>EFExportsTotGHA</td>\n",
       "      <td>26579.249964</td>\n",
       "      <td>661.594604</td>\n",
       "      <td>6037.791864</td>\n",
       "      <td>6.828280e+05</td>\n",
       "      <td>0.000000</td>\n",
       "      <td>10838.670256</td>\n",
       "      <td>7.269453e+05</td>\n",
       "      <td>3L</td>\n",
       "    </tr>\n",
       "    <tr>\n",
       "      <th>99356</th>\n",
       "      <td>99356</td>\n",
       "      <td>Vanuatu</td>\n",
       "      <td>2013</td>\n",
       "      <td>155</td>\n",
       "      <td>EFImportsPerCap</td>\n",
       "      <td>0.103218</td>\n",
       "      <td>0.040232</td>\n",
       "      <td>0.039395</td>\n",
       "      <td>7.262617e-02</td>\n",
       "      <td>0.000000</td>\n",
       "      <td>0.243803</td>\n",
       "      <td>4.992746e-01</td>\n",
       "      <td>3L</td>\n",
       "    </tr>\n",
       "    <tr>\n",
       "      <th>99357</th>\n",
       "      <td>99357</td>\n",
       "      <td>Vanuatu</td>\n",
       "      <td>2013</td>\n",
       "      <td>155</td>\n",
       "      <td>EFImportsTotGHA</td>\n",
       "      <td>26131.183585</td>\n",
       "      <td>10185.274161</td>\n",
       "      <td>9973.483797</td>\n",
       "      <td>1.838640e+04</td>\n",
       "      <td>0.000000</td>\n",
       "      <td>61722.504997</td>\n",
       "      <td>1.263989e+05</td>\n",
       "      <td>3L</td>\n",
       "    </tr>\n",
       "    <tr>\n",
       "      <th>99358</th>\n",
       "      <td>99358</td>\n",
       "      <td>Vanuatu</td>\n",
       "      <td>2013</td>\n",
       "      <td>155</td>\n",
       "      <td>EFProdPerCap</td>\n",
       "      <td>0.958186</td>\n",
       "      <td>0.075730</td>\n",
       "      <td>0.245805</td>\n",
       "      <td>4.504165e+00</td>\n",
       "      <td>0.000000</td>\n",
       "      <td>0.145292</td>\n",
       "      <td>5.929177e+00</td>\n",
       "      <td>3L</td>\n",
       "    </tr>\n",
       "    <tr>\n",
       "      <th>99359</th>\n",
       "      <td>99359</td>\n",
       "      <td>Vanuatu</td>\n",
       "      <td>2013</td>\n",
       "      <td>155</td>\n",
       "      <td>EFProdTotGHA</td>\n",
       "      <td>242579.122476</td>\n",
       "      <td>19172.136759</td>\n",
       "      <td>62229.145562</td>\n",
       "      <td>1.140297e+06</td>\n",
       "      <td>0.000000</td>\n",
       "      <td>36782.934283</td>\n",
       "      <td>1.501060e+06</td>\n",
       "      <td>3L</td>\n",
       "    </tr>\n",
       "  </tbody>\n",
       "</table>\n",
       "<p>81240 rows × 13 columns</p>\n",
       "</div>"
      ],
      "text/plain": [
       "       index  country  year  country_code           record      crop_land  \\\n",
       "0          0  Armenia  1992             1       AreaPerCap       0.140020   \n",
       "1          1  Armenia  1992             1        AreaTotHA  483000.000000   \n",
       "2          2  Armenia  1992             1     BiocapPerCap       0.276531   \n",
       "3          3  Armenia  1992             1     BiocapTotGHA  953895.034844   \n",
       "4          4  Armenia  1992             1     EFConsPerCap       0.477412   \n",
       "...      ...      ...   ...           ...              ...            ...   \n",
       "99355  99355  Vanuatu  2013           155  EFExportsTotGHA   26579.249964   \n",
       "99356  99356  Vanuatu  2013           155  EFImportsPerCap       0.103218   \n",
       "99357  99357  Vanuatu  2013           155  EFImportsTotGHA   26131.183585   \n",
       "99358  99358  Vanuatu  2013           155     EFProdPerCap       0.958186   \n",
       "99359  99359  Vanuatu  2013           155     EFProdTotGHA  242579.122476   \n",
       "\n",
       "        grazing_land    forest_land  fishing_ground  built_up_land  \\\n",
       "0           0.199159       0.097000    3.681693e-02       0.029258   \n",
       "1      687000.000000  334600.000000    1.270000e+05  100925.003052   \n",
       "2           0.134892       0.083839    1.370460e-02       0.057782   \n",
       "3      465308.532841  289203.573356    4.727402e+04  199320.619674   \n",
       "4           0.175880       0.000001    4.113147e-03       0.057782   \n",
       "...              ...            ...             ...            ...   \n",
       "99355     661.594604    6037.791864    6.828280e+05       0.000000   \n",
       "99356       0.040232       0.039395    7.262617e-02       0.000000   \n",
       "99357   10185.274161    9973.483797    1.838640e+04       0.000000   \n",
       "99358       0.075730       0.245805    4.504165e+00       0.000000   \n",
       "99359   19172.136759   62229.145562    1.140297e+06       0.000000   \n",
       "\n",
       "             carbon         total QScore  \n",
       "0          0.000000  5.022540e-01      5  \n",
       "1          0.000000  1.732525e+06      5  \n",
       "2          0.000000  5.667493e-01      5  \n",
       "3          0.000000  1.955002e+06      5  \n",
       "4          1.097617  1.812806e+00      5  \n",
       "...             ...           ...    ...  \n",
       "99355  10838.670256  7.269453e+05     3L  \n",
       "99356      0.243803  4.992746e-01     3L  \n",
       "99357  61722.504997  1.263989e+05     3L  \n",
       "99358      0.145292  5.929177e+00     3L  \n",
       "99359  36782.934283  1.501060e+06     3L  \n",
       "\n",
       "[81240 rows x 13 columns]"
      ]
     },
     "execution_count": 3,
     "metadata": {},
     "output_type": "execute_result"
    }
   ],
   "source": [
    "import pandas as pd\n",
    "NFA = pd.read_csv('NFA 2017 Edition.csv', low_memory = False)\n",
    "NFA_edit = NFA.dropna()\n",
    "NFA_edit"
   ]
  },
  {
   "cell_type": "markdown",
   "id": "9eb7ad16",
   "metadata": {},
   "source": [
    "Neste DataFrame foram utilizadas diferentes unidades de medidas, como AreaPerCap, BiocapPerCap, BiocapTotGHA, entre outros. Todavia, para análise dos dados escolheu selecionar uma **amostra** dos dados com a mesma unidade de análise, sendo a **BiocapTotGHA(biocapacidade total em hectare global)** a escolhida devido a sua maior abrangência de análise."
   ]
  },
  {
   "cell_type": "code",
   "execution_count": 4,
   "id": "1a0e2147",
   "metadata": {
    "scrolled": true
   },
   "outputs": [
    {
     "data": {
      "text/html": [
       "<div>\n",
       "<style scoped>\n",
       "    .dataframe tbody tr th:only-of-type {\n",
       "        vertical-align: middle;\n",
       "    }\n",
       "\n",
       "    .dataframe tbody tr th {\n",
       "        vertical-align: top;\n",
       "    }\n",
       "\n",
       "    .dataframe thead th {\n",
       "        text-align: right;\n",
       "    }\n",
       "</style>\n",
       "<table border=\"1\" class=\"dataframe\">\n",
       "  <thead>\n",
       "    <tr style=\"text-align: right;\">\n",
       "      <th></th>\n",
       "      <th>index</th>\n",
       "      <th>country</th>\n",
       "      <th>year</th>\n",
       "      <th>country_code</th>\n",
       "      <th>record</th>\n",
       "      <th>crop_land</th>\n",
       "      <th>grazing_land</th>\n",
       "      <th>forest_land</th>\n",
       "      <th>fishing_ground</th>\n",
       "      <th>built_up_land</th>\n",
       "      <th>carbon</th>\n",
       "      <th>total</th>\n",
       "      <th>QScore</th>\n",
       "    </tr>\n",
       "  </thead>\n",
       "  <tbody>\n",
       "    <tr>\n",
       "      <th>3</th>\n",
       "      <td>3</td>\n",
       "      <td>Armenia</td>\n",
       "      <td>1992</td>\n",
       "      <td>1</td>\n",
       "      <td>BiocapTotGHA</td>\n",
       "      <td>9.538950e+05</td>\n",
       "      <td>4.653085e+05</td>\n",
       "      <td>2.892036e+05</td>\n",
       "      <td>4.727402e+04</td>\n",
       "      <td>199320.619674</td>\n",
       "      <td>0.0</td>\n",
       "      <td>1.955002e+06</td>\n",
       "      <td>5</td>\n",
       "    </tr>\n",
       "    <tr>\n",
       "      <th>15</th>\n",
       "      <td>15</td>\n",
       "      <td>Armenia</td>\n",
       "      <td>1993</td>\n",
       "      <td>1</td>\n",
       "      <td>BiocapTotGHA</td>\n",
       "      <td>9.241209e+05</td>\n",
       "      <td>4.657308e+05</td>\n",
       "      <td>2.897064e+05</td>\n",
       "      <td>4.724814e+04</td>\n",
       "      <td>184804.308265</td>\n",
       "      <td>0.0</td>\n",
       "      <td>1.911611e+06</td>\n",
       "      <td>5</td>\n",
       "    </tr>\n",
       "    <tr>\n",
       "      <th>27</th>\n",
       "      <td>27</td>\n",
       "      <td>Armenia</td>\n",
       "      <td>1994</td>\n",
       "      <td>1</td>\n",
       "      <td>BiocapTotGHA</td>\n",
       "      <td>8.905792e+05</td>\n",
       "      <td>4.729849e+05</td>\n",
       "      <td>2.898431e+05</td>\n",
       "      <td>4.716149e+04</td>\n",
       "      <td>171448.420103</td>\n",
       "      <td>0.0</td>\n",
       "      <td>1.872017e+06</td>\n",
       "      <td>5</td>\n",
       "    </tr>\n",
       "    <tr>\n",
       "      <th>39</th>\n",
       "      <td>39</td>\n",
       "      <td>Armenia</td>\n",
       "      <td>1995</td>\n",
       "      <td>1</td>\n",
       "      <td>BiocapTotGHA</td>\n",
       "      <td>8.884682e+05</td>\n",
       "      <td>5.052961e+05</td>\n",
       "      <td>2.895379e+05</td>\n",
       "      <td>4.702436e+04</td>\n",
       "      <td>169605.874864</td>\n",
       "      <td>0.0</td>\n",
       "      <td>1.899932e+06</td>\n",
       "      <td>5</td>\n",
       "    </tr>\n",
       "    <tr>\n",
       "      <th>51</th>\n",
       "      <td>51</td>\n",
       "      <td>Armenia</td>\n",
       "      <td>1996</td>\n",
       "      <td>1</td>\n",
       "      <td>BiocapTotGHA</td>\n",
       "      <td>9.522671e+05</td>\n",
       "      <td>5.382902e+05</td>\n",
       "      <td>2.899853e+05</td>\n",
       "      <td>4.696396e+04</td>\n",
       "      <td>174734.615574</td>\n",
       "      <td>0.0</td>\n",
       "      <td>2.002241e+06</td>\n",
       "      <td>5</td>\n",
       "    </tr>\n",
       "    <tr>\n",
       "      <th>...</th>\n",
       "      <td>...</td>\n",
       "      <td>...</td>\n",
       "      <td>...</td>\n",
       "      <td>...</td>\n",
       "      <td>...</td>\n",
       "      <td>...</td>\n",
       "      <td>...</td>\n",
       "      <td>...</td>\n",
       "      <td>...</td>\n",
       "      <td>...</td>\n",
       "      <td>...</td>\n",
       "      <td>...</td>\n",
       "      <td>...</td>\n",
       "    </tr>\n",
       "    <tr>\n",
       "      <th>99303</th>\n",
       "      <td>99303</td>\n",
       "      <td>Timor-Leste</td>\n",
       "      <td>2013</td>\n",
       "      <td>176</td>\n",
       "      <td>BiocapTotGHA</td>\n",
       "      <td>2.013039e+05</td>\n",
       "      <td>6.847192e+04</td>\n",
       "      <td>5.722116e+05</td>\n",
       "      <td>1.060088e+06</td>\n",
       "      <td>42001.368091</td>\n",
       "      <td>0.0</td>\n",
       "      <td>1.944077e+06</td>\n",
       "      <td>3B</td>\n",
       "    </tr>\n",
       "    <tr>\n",
       "      <th>99315</th>\n",
       "      <td>99315</td>\n",
       "      <td>Trinidad and Tobago</td>\n",
       "      <td>2013</td>\n",
       "      <td>220</td>\n",
       "      <td>BiocapTotGHA</td>\n",
       "      <td>5.139011e+04</td>\n",
       "      <td>8.238753e+03</td>\n",
       "      <td>1.971365e+05</td>\n",
       "      <td>1.840749e+06</td>\n",
       "      <td>1395.143070</td>\n",
       "      <td>0.0</td>\n",
       "      <td>2.098910e+06</td>\n",
       "      <td>3B</td>\n",
       "    </tr>\n",
       "    <tr>\n",
       "      <th>99327</th>\n",
       "      <td>99327</td>\n",
       "      <td>Turkmenistan</td>\n",
       "      <td>2013</td>\n",
       "      <td>213</td>\n",
       "      <td>BiocapTotGHA</td>\n",
       "      <td>3.059010e+06</td>\n",
       "      <td>1.021329e+07</td>\n",
       "      <td>7.812751e+04</td>\n",
       "      <td>6.671880e+05</td>\n",
       "      <td>455806.313355</td>\n",
       "      <td>0.0</td>\n",
       "      <td>1.447342e+07</td>\n",
       "      <td>3B</td>\n",
       "    </tr>\n",
       "    <tr>\n",
       "      <th>99339</th>\n",
       "      <td>99339</td>\n",
       "      <td>Uruguay</td>\n",
       "      <td>2013</td>\n",
       "      <td>234</td>\n",
       "      <td>BiocapTotGHA</td>\n",
       "      <td>6.077915e+06</td>\n",
       "      <td>1.659146e+07</td>\n",
       "      <td>4.181995e+06</td>\n",
       "      <td>7.461952e+06</td>\n",
       "      <td>487608.960228</td>\n",
       "      <td>0.0</td>\n",
       "      <td>3.480094e+07</td>\n",
       "      <td>3B</td>\n",
       "    </tr>\n",
       "    <tr>\n",
       "      <th>99351</th>\n",
       "      <td>99351</td>\n",
       "      <td>Vanuatu</td>\n",
       "      <td>2013</td>\n",
       "      <td>155</td>\n",
       "      <td>BiocapTotGHA</td>\n",
       "      <td>2.425791e+05</td>\n",
       "      <td>1.917214e+04</td>\n",
       "      <td>1.995148e+05</td>\n",
       "      <td>1.647981e+05</td>\n",
       "      <td>0.000000</td>\n",
       "      <td>0.0</td>\n",
       "      <td>6.260641e+05</td>\n",
       "      <td>3L</td>\n",
       "    </tr>\n",
       "  </tbody>\n",
       "</table>\n",
       "<p>6770 rows × 13 columns</p>\n",
       "</div>"
      ],
      "text/plain": [
       "       index              country  year  country_code        record  \\\n",
       "3          3              Armenia  1992             1  BiocapTotGHA   \n",
       "15        15              Armenia  1993             1  BiocapTotGHA   \n",
       "27        27              Armenia  1994             1  BiocapTotGHA   \n",
       "39        39              Armenia  1995             1  BiocapTotGHA   \n",
       "51        51              Armenia  1996             1  BiocapTotGHA   \n",
       "...      ...                  ...   ...           ...           ...   \n",
       "99303  99303          Timor-Leste  2013           176  BiocapTotGHA   \n",
       "99315  99315  Trinidad and Tobago  2013           220  BiocapTotGHA   \n",
       "99327  99327         Turkmenistan  2013           213  BiocapTotGHA   \n",
       "99339  99339              Uruguay  2013           234  BiocapTotGHA   \n",
       "99351  99351              Vanuatu  2013           155  BiocapTotGHA   \n",
       "\n",
       "          crop_land  grazing_land   forest_land  fishing_ground  \\\n",
       "3      9.538950e+05  4.653085e+05  2.892036e+05    4.727402e+04   \n",
       "15     9.241209e+05  4.657308e+05  2.897064e+05    4.724814e+04   \n",
       "27     8.905792e+05  4.729849e+05  2.898431e+05    4.716149e+04   \n",
       "39     8.884682e+05  5.052961e+05  2.895379e+05    4.702436e+04   \n",
       "51     9.522671e+05  5.382902e+05  2.899853e+05    4.696396e+04   \n",
       "...             ...           ...           ...             ...   \n",
       "99303  2.013039e+05  6.847192e+04  5.722116e+05    1.060088e+06   \n",
       "99315  5.139011e+04  8.238753e+03  1.971365e+05    1.840749e+06   \n",
       "99327  3.059010e+06  1.021329e+07  7.812751e+04    6.671880e+05   \n",
       "99339  6.077915e+06  1.659146e+07  4.181995e+06    7.461952e+06   \n",
       "99351  2.425791e+05  1.917214e+04  1.995148e+05    1.647981e+05   \n",
       "\n",
       "       built_up_land  carbon         total QScore  \n",
       "3      199320.619674     0.0  1.955002e+06      5  \n",
       "15     184804.308265     0.0  1.911611e+06      5  \n",
       "27     171448.420103     0.0  1.872017e+06      5  \n",
       "39     169605.874864     0.0  1.899932e+06      5  \n",
       "51     174734.615574     0.0  2.002241e+06      5  \n",
       "...              ...     ...           ...    ...  \n",
       "99303   42001.368091     0.0  1.944077e+06     3B  \n",
       "99315    1395.143070     0.0  2.098910e+06     3B  \n",
       "99327  455806.313355     0.0  1.447342e+07     3B  \n",
       "99339  487608.960228     0.0  3.480094e+07     3B  \n",
       "99351       0.000000     0.0  6.260641e+05     3L  \n",
       "\n",
       "[6770 rows x 13 columns]"
      ]
     },
     "execution_count": 4,
     "metadata": {},
     "output_type": "execute_result"
    }
   ],
   "source": [
    "NFA = NFA_edit.loc[NFA_edit['record'] =='BiocapTotGHA']\n",
    "NFA"
   ]
  },
  {
   "cell_type": "markdown",
   "id": "76a4529c",
   "metadata": {},
   "source": [
    "### Definindo entradas e saídas e divisão dos dados"
   ]
  },
  {
   "cell_type": "markdown",
   "id": "e6efbbdf",
   "metadata": {},
   "source": [
    "Ajustado o Dataset foi escolhida as **entradas(features ou atributos)** que seriam utilizadas - \"crop_land\", \"grazing_land\", \"forest_land\", \"fishing_ground\",\"built_up_land\" - e a **saída(target)** que corresponde a pegada de ecológica total, em que todos esses dados são numéricos. Vale ressaltar que escolheu-se não normalizá-los, pois os testes com os dados normalizados não foram satisfatórios, possivelmente pelos dados terem unidades e distribuições semelhantes."
   ]
  },
  {
   "cell_type": "code",
   "execution_count": 5,
   "id": "27303cc2",
   "metadata": {},
   "outputs": [],
   "source": [
    "entradas = [\"crop_land\", \"grazing_land\", \"forest_land\", \"fishing_ground\",\"built_up_land\"]\n",
    "saida = ['total']"
   ]
  },
  {
   "cell_type": "markdown",
   "id": "5c3b33da",
   "metadata": {},
   "source": [
    "Para iniciar a implementação do modelo foi dividido os dados entre **dados de treino e dados de teste** utilizando a biblioteca `scikit-learn` utilizando o módulo `train_test_split`."
   ]
  },
  {
   "cell_type": "code",
   "execution_count": 6,
   "id": "89390e5b",
   "metadata": {},
   "outputs": [
    {
     "name": "stdout",
     "output_type": "stream",
     "text": [
      "          crop_land  grazing_land   forest_land  fishing_ground  \\\n",
      "951    5.446547e+05  7.996632e+05  1.160138e+06    2.455513e+05   \n",
      "66195  8.166399e+06  2.244366e+06  8.300087e+05    7.791507e+04   \n",
      "46467  8.707486e+05  2.882694e+05  1.948846e+06    3.435037e+04   \n",
      "34647  1.671077e+07  5.979959e+06  9.461939e+06    8.244595e+05   \n",
      "66795  9.431083e+06  1.633295e+07  8.972346e+06    2.958211e+06   \n",
      "...             ...           ...           ...             ...   \n",
      "38523  1.166538e+06  9.946785e+05  4.923206e+06    2.221623e+05   \n",
      "52455  1.024413e+07  1.543530e+07  8.467986e+07    6.084583e+06   \n",
      "28299  1.568860e+06  8.955268e+06  8.312289e+06    3.627664e+06   \n",
      "26967  6.467165e+04  9.885310e+03  6.426756e+04    8.571182e+04   \n",
      "21135  1.648196e+06  8.432803e+05  3.623773e+05    7.104696e+05   \n",
      "\n",
      "       built_up_land         total  \n",
      "951     2.976484e+04  2.779772e+06  \n",
      "66195   7.263090e+05  1.204500e+07  \n",
      "46467   5.274708e+04  3.194961e+06  \n",
      "34647   1.560783e+06  3.453791e+07  \n",
      "66795   1.283570e+06  3.897816e+07  \n",
      "...              ...           ...  \n",
      "38523   3.122938e+05  7.618878e+06  \n",
      "52455   2.097999e+06  1.185419e+08  \n",
      "28299   7.816836e+04  2.254225e+07  \n",
      "26967   7.560331e+02  2.252924e+05  \n",
      "21135   2.758315e+05  3.840155e+06  \n",
      "\n",
      "[5416 rows x 6 columns]\n",
      "          crop_land  grazing_land   forest_land  fishing_ground  \\\n",
      "3231   7.072723e+07  7.088873e+07  3.243260e+07    6.967909e+07   \n",
      "2883   4.117894e+07  7.713996e+07  3.408543e+07    7.170278e+07   \n",
      "19527  1.930103e+06  1.171798e+06  9.613480e+05    2.553292e+05   \n",
      "99315  5.139011e+04  8.238753e+03  1.971365e+05    1.840749e+06   \n",
      "65991  5.555966e+06  2.295005e+06  7.316315e+05    7.943546e+04   \n",
      "...             ...           ...           ...             ...   \n",
      "77655  3.924352e+06  4.398709e+05  3.048703e+06    4.881097e+05   \n",
      "50223  4.732111e+07  6.985406e+05  2.026134e+06    6.431301e+06   \n",
      "47175  9.486116e+05  2.587459e+06  1.211091e+07    3.074402e+06   \n",
      "70071  4.725336e+07  6.860679e+06  4.271528e+07    3.222175e+06   \n",
      "62007  3.654579e+05  6.031403e+06  2.745101e+06    3.568063e+06   \n",
      "\n",
      "       built_up_land         total  \n",
      "3231    3.407235e+06  2.471349e+08  \n",
      "2883    1.559007e+06  2.256661e+08  \n",
      "19527   2.055897e+05  4.524167e+06  \n",
      "99315   1.395143e+03  2.098910e+06  \n",
      "65991   2.872802e+05  8.949318e+06  \n",
      "...              ...           ...  \n",
      "77655   1.683326e+06  9.584362e+06  \n",
      "50223   5.554618e+06  6.203170e+07  \n",
      "47175   5.660975e+04  1.877799e+07  \n",
      "70071   2.038058e+06  1.020896e+08  \n",
      "62007   8.264615e+04  1.279267e+07  \n",
      "\n",
      "[1354 rows x 6 columns]\n"
     ]
    }
   ],
   "source": [
    "from sklearn.model_selection import train_test_split\n",
    "import seaborn as sns\n",
    "\n",
    "\n",
    "TAMANHO_TESTE = 0.15\n",
    "SEMENTE_ALEATORIA = 62000\n",
    "\n",
    "# NFA_treino, NFA_teste = train_test_split(NFA, test_size=TAMANHO_TESTE,\n",
    "#                                              random_state=SEMENTE_ALEATORIA)\n",
    "\n",
    "NFA = NFA.reindex(entradas + saida, axis=1)\n",
    "\n",
    "indices = NFA.index\n",
    "indices_treino, indices_teste = train_test_split(\n",
    "    indices, test_size=0.2, random_state=SEMENTE_ALEATORIA\n",
    ")\n",
    "\n",
    "NFA_treino = NFA.loc[indices_treino]\n",
    "NFA_teste = NFA.loc[indices_teste]\n",
    "\n",
    "E_treino = NFA_treino.reindex(entradas, axis=1).values\n",
    "s_treino = NFA_treino.reindex(saida, axis=1).values.ravel()\n",
    "\n",
    "E_teste = NFA_teste.reindex(entradas, axis=1).values\n",
    "s_teste = NFA_teste.reindex(saida, axis=1).values.ravel()\n",
    "\n",
    "print(NFA_treino)\n",
    "print(NFA_teste)"
   ]
  },
  {
   "cell_type": "markdown",
   "id": "d01afd51",
   "metadata": {},
   "source": [
    "### Aplicando o `Optuna` para determinar os melhores valores para os hiperparâmetros do modelo"
   ]
  },
  {
   "cell_type": "markdown",
   "id": "15976ca8",
   "metadata": {},
   "source": [
    "No caso os **hiperparâmetros** são o `Número de Árvores` - quantas árvores serão adicionadas ao *ensemble*-, `Número mínimo de folhas` - as folhas são vértices que guardam o valor resposta e neles apenas chegam setas-, `Mínimo de Split/Divisões` dos nós e `Número máximo de atributos` - relacionado a indução das árvores, em que é considerado toda vez que um condicional do vértice é escolhido.\n",
    "\n",
    "Para implementar o `Optuna`, primeiro é necessário criar uma instância do modelo seguindo os parâmetros da biblioteca, utilizando como argumento o *trial* que é um objeto do tipo Trial do módulo, e a função retornará a instância do modelo desejado. Também é preciso definir qual o tipo de trial, podendo ser um valor interiro `trial.suggest_int`, um float `trial.suggest_float` ou um categórico `trial.suggest_categorical`."
   ]
  },
  {
   "cell_type": "code",
   "execution_count": 7,
   "id": "decd47dc",
   "metadata": {},
   "outputs": [],
   "source": [
    "from sklearn.ensemble import RandomForestRegressor\n",
    "\n",
    "def cria_instancia_modelo(trial):  #optuna requer isso - criar instancia de modelo,não está treinando\n",
    "   \n",
    "    parametros = {                                                 #dicionario\n",
    "        \"n_estimators\": trial.suggest_int(\"num_arvores\", 10, 300),   #optuna permite números inteiros, float e categóricos; num_arvores(conta o que está sendo representado)\n",
    "        \"criterion\": trial.suggest_categorical(                      #escolhe quantas chaves mas os nomes tem que estar de acordo com o skitch (ex: randomforestregressor - argumentos(nem todos são hiperparâmetros)(porque vai passar pelo operador estrela))\n",
    "            \"critério\", [\"squared_error\"]   #criterio do split #dá um nome para o critério, pode ser o mesmo ou mudar(exemplo: critério, mas tem que ter)\n",
    "        ),\n",
    "        \"min_samples_split\": trial.suggest_int(\n",
    "            \"min_exemplos_split\", 2, 20, log=True      #sorteia em escala log e depois transforma em linear; sempre que a diferença é mais que uma ordem de grandeza -> usar log\n",
    "        ),\n",
    "        \"min_samples_leaf\": trial.suggest_int(\n",
    "            \"min_exemplos_folha\", 1, 20, log=True\n",
    "        ),\n",
    "        \"max_features\": trial.suggest_float(\"num_max_atributos\", 0, 1),  # 0, 1 é porcentagem; para que não veja todos os atributos - melhora  a performance\n",
    "        \"n_jobs\": 6,   #controla o número de núcles de cpu -> -1 roda todos(hpc), 4/6 para computador comum\n",
    "        \"bootstrap\": True,  # amostragem com reposição (explicação em outro notebook- provavelmente 5.1)\n",
    "        \"random_state\": SEMENTE_ALEATORIA,\n",
    "    }  #definido o espaço amostral\n",
    "\n",
    "    model = RandomForestRegressor(**parametros)  # operador estrela(aula 6.0)\n",
    "\n",
    "    return model"
   ]
  },
  {
   "cell_type": "markdown",
   "id": "da39b6a4",
   "metadata": {},
   "source": [
    "Então é preciso criar uma função objetivo para a métrica que se almeja usar, nesse caso será feita uma função objetivo para obter o RMSE do modelo, utilizando o `cross_val_score` para fazer a validação cruzada dos dados."
   ]
  },
  {
   "cell_type": "code",
   "execution_count": 8,
   "id": "2362f2e3",
   "metadata": {},
   "outputs": [],
   "source": [
    "from sklearn.model_selection import cross_val_score\n",
    "\n",
    "def funcao_objetivo(trial, E, s, num_folds):    #num_folds para validação cruzada\n",
    "    \"\"\"Função objetivo do optuna\n",
    "\n",
    "    Referencia:\n",
    "      https://medium.com/@walter_sperat/ using-optuna-with-sklearn-the-right-way-part-1-6b4ad0ab2451\n",
    "\n",
    "    \"\"\"\n",
    "    modelo = cria_instancia_modelo(trial)\n",
    "\n",
    "    metricas = cross_val_score(\n",
    "        modelo,\n",
    "        E,\n",
    "        s,\n",
    "        scoring=\"neg_root_mean_squared_error\",  #pode escolher o objetivo, MSE, r absoluto...\n",
    "        cv=num_folds,\n",
    "    )\n",
    "\n",
    "    # releia sobre scores no sklearn para relembrar porque tem um negativo abaixo\n",
    "    return -metricas.mean()"
   ]
  },
  {
   "cell_type": "markdown",
   "id": "aec3d8d0",
   "metadata": {},
   "source": [
    "Por fim, para de fato aplicar o `Optuna` é necessário criar um estudo em que se define o objetivo, como minimizar o RMSE ou maximizar a acurácia. Nesse caso, será minimizar o RMSE."
   ]
  },
  {
   "cell_type": "code",
   "execution_count": 9,
   "id": "62ae5ad7",
   "metadata": {},
   "outputs": [
    {
     "name": "stderr",
     "output_type": "stream",
     "text": [
      "[I 2024-10-14 00:26:43,929] Using an existing study with name 'arvore_aleatoria_pegada_carbono_300_arvores' instead of creating a new one.\n"
     ]
    }
   ],
   "source": [
    "from optuna import create_study\n",
    "\n",
    "NOME_DO_ESTUDO = \"arvore_aleatoria_pegada_carbono_300_arvores\"  #optuna vai salvar dessa forma no computador\n",
    "\n",
    "objeto_de_estudo = create_study(\n",
    "    direction=\"minimize\",\n",
    "    study_name=NOME_DO_ESTUDO,\n",
    "    storage=f\"sqlite:///{NOME_DO_ESTUDO}.db\",  #carrega os dados, não perde o trabalho\n",
    "    load_if_exists=True,\n",
    ")"
   ]
  },
  {
   "cell_type": "markdown",
   "id": "f6f8a183",
   "metadata": {},
   "source": [
    "Todavia, para efetivamente rodar o otimizador é preciso uma função objetivo que tenha apenas um argumento. Portanto para isso será criada outra função, com apenas argumento, utilizando o número de folds como 10, visto que é um dos valores recomendados na literatura, por ter maior precisão, apesar de ter maior custo computacional. \n",
    "\n",
    "Obeservação: caso o custo computacional seja um problema, recomenda-se usar um número de folds igual a 5."
   ]
  },
  {
   "cell_type": "code",
   "execution_count": 10,
   "id": "3632e7c8",
   "metadata": {},
   "outputs": [],
   "source": [
    "NUM_FOLDS = 150\n",
    "\n",
    "def funcao_objetivo_parcial(trial):\n",
    "    return funcao_objetivo(trial, E_treino, s_treino, NUM_FOLDS) #retorna a função utilizando as variáveis globais(apenas o trial que é gerado pelo optuna), respeitando o optuna\n"
   ]
  },
  {
   "cell_type": "markdown",
   "id": "296c9940",
   "metadata": {},
   "source": [
    "Então será testado o otimizador com o valor de tentativas determinados `n_trial` e utilizando o módulo `optimize`."
   ]
  },
  {
   "cell_type": "code",
   "execution_count": 11,
   "id": "c8d15937",
   "metadata": {},
   "outputs": [
    {
     "name": "stderr",
     "output_type": "stream",
     "text": [
      "[I 2024-10-14 00:27:10,329] Trial 311 finished with value: 6460987.170175628 and parameters: {'num_arvores': 166, 'critério': 'squared_error', 'min_exemplos_split': 3, 'min_exemplos_folha': 1, 'num_max_atributos': 0.7797129559910648}. Best is trial 103 with value: 6394107.78358479.\n"
     ]
    }
   ],
   "source": [
    "NUM_TENTATIVAS = 1\n",
    "\n",
    "objeto_de_estudo.optimize(funcao_objetivo_parcial, n_trials=NUM_TENTATIVAS)"
   ]
  },
  {
   "cell_type": "markdown",
   "id": "ba2b0011",
   "metadata": {},
   "source": [
    "Pode-se criar um dataFrame com os resultados e também obter o melhor valor."
   ]
  },
  {
   "cell_type": "code",
   "execution_count": 27,
   "id": "59a9a25c",
   "metadata": {},
   "outputs": [],
   "source": [
    "resultados_otim = objeto_de_estudo.trials_dataframe()\n",
    "resultados_otim = resultados_otim.rename(columns={'number': 'Trial', 'value': 'RMSE', 'params_critério': 'Critério',\n",
    "                                     'params_min_exemplos_folha': \"Mín_de_folhas\",'params_min_exemplos_split': 'Mín_de_split',\n",
    "                                     'params_num_arvores': 'Número_de_arvores','params_num_max_atributos':'Número_max_atributos'\n",
    "})"
   ]
  },
  {
   "cell_type": "code",
   "execution_count": 13,
   "id": "50c02874",
   "metadata": {},
   "outputs": [
    {
     "name": "stdout",
     "output_type": "stream",
     "text": [
      "Número do melhor trial: 103\n",
      "Parâmetros do melhor trial: {'num_arvores': 93, 'critério': 'squared_error', 'min_exemplos_split': 3, 'min_exemplos_folha': 1, 'num_max_atributos': 0.7161693712844424}\n"
     ]
    }
   ],
   "source": [
    "melhor_trial = objeto_de_estudo.best_trial\n",
    "\n",
    "print(f\"Número do melhor trial: {melhor_trial.number}\")\n",
    "print(f\"Parâmetros do melhor trial: {melhor_trial.params}\")"
   ]
  },
  {
   "cell_type": "code",
   "execution_count": 14,
   "id": "35928efd",
   "metadata": {},
   "outputs": [
    {
     "name": "stdout",
     "output_type": "stream",
     "text": [
      "103    6.394108e+06\n",
      "Name: RMSE, dtype: float64\n"
     ]
    }
   ],
   "source": [
    "linha_melhor_trial = resultados_otim['RMSE'].loc[resultados_otim['Trial'] == melhor_trial.number]\n",
    "print(linha_melhor_trial)"
   ]
  },
  {
   "cell_type": "markdown",
   "id": "6a13d0e3",
   "metadata": {},
   "source": [
    "A partir das diferentes combinações dos hiperparâmetros feitas pelo `Optuna` utilizando a validação cruzada, foi encontrada que o que obteve o melhor desempenho foi a tentativa 103, com um RMSE de $6.394108e+06$, tendo como valores do hiperparâmetros `Número de Árvores`: 93, `Mínimo de Split`: 3, `Mínimo de Folhas`: 1, `Valor Máximo de Atributos`: 0.7161693712844424. Ou seja, essa foi a combinação encontrada que teve o melhor desempenho no modelo. Como os dados dessa unidade(BIocapTotGHA) são altas, esse RMSE está não apenas dentro do esperado, como se monstra um ótimo valor, principalmente quando comparado a outros teste feitos com esse e outros modelos."
   ]
  },
  {
   "cell_type": "markdown",
   "id": "cd69038d",
   "metadata": {},
   "source": [
    "### Gráficos de Análise das Otimizações feitas com o `Optuna`"
   ]
  },
  {
   "cell_type": "markdown",
   "id": "0941eabc",
   "metadata": {},
   "source": [
    "Para melhor vizualização e compreensão dos dados otimizados fez-se alguns gráficos, todos com o valor do RMSE no eixo y.\n",
    "\n",
    "Primeiro foi feito um gráfico dos `trials` pelo valor do `RMSE` obtido em cada uma das combinações. "
   ]
  },
  {
   "cell_type": "code",
   "execution_count": 15,
   "id": "71caabee",
   "metadata": {},
   "outputs": [
    {
     "data": {
      "image/png": "[encoded data removed]",
      "text/plain": [
       "<Figure size 1500x600 with 1 Axes>"
      ]
     },
     "metadata": {},
     "output_type": "display_data"
    }
   ],
   "source": [
    "import matplotlib.pyplot as plt\n",
    "\n",
    "figura, fig_1 = plt.subplots(figsize = (15,6))\n",
    "\n",
    "fig_1.bar(resultados_otim['Trial'], resultados_otim['RMSE'], color='olivedrab')\n",
    "\n",
    "fig_1.set_title('Trial por RMSE', loc='center')  \n",
    "fig_1.set_xlabel('Trial')\n",
    "fig_1.set_ylabel('RMSE')\n",
    "\n",
    "plt.show()"
   ]
  },
  {
   "cell_type": "markdown",
   "id": "8708f311",
   "metadata": {},
   "source": [
    "Esse gráfico permite observar quais os trials tiveram o melhor desempenho segundo o critério do RMSE, ou seja, quais obtiveram um RMSE menor, sendo nessa optimização o trial $103$."
   ]
  },
  {
   "cell_type": "markdown",
   "id": "c1cead87",
   "metadata": {},
   "source": [
    "Então foi feita uma comparação do `Número de árvores` e do `RMSE` obtido em relação a variação desse valor. Primeiro foi feito um histograma."
   ]
  },
  {
   "cell_type": "code",
   "execution_count": 16,
   "id": "13533fab",
   "metadata": {},
   "outputs": [
    {
     "data": {
      "image/png": "[encoded data removed]",
      "text/plain": [
       "<Figure size 1400x600 with 1 Axes>"
      ]
     },
     "metadata": {},
     "output_type": "display_data"
    }
   ],
   "source": [
    "figura, fig_2 = plt.subplots(figsize = (14,6))\n",
    "\n",
    "fig_2.hist(resultados_otim['Número_de_arvores'], bins=20, color='olivedrab', edgecolor='black')\n",
    "\n",
    "fig_2.set_title('Histograma do Número de Árvores e os valores do RMSE', loc='center')  \n",
    "fig_2.set_xlabel('Número de Árvores')\n",
    "fig_2.set_ylabel('RMSE')\n",
    "\n",
    "plt.show()\n"
   ]
  },
  {
   "cell_type": "markdown",
   "id": "e7382d9c",
   "metadata": {},
   "source": [
    "A partir desse histograma é possível observar os Números de Árvores que foram selecionados mais vezes pelo otimizador, como 300 árvores, além de ser possível observar que algumas acumularam um maior valor de RMSE, como valores entre 270 e 300, e entre 100 a 150, aproximadamente.\n",
    "\n",
    "Para melhor observar a relação entre o Número de árvores e o RMSE, foi feito uma gráfico de barras com essa relação aos mesmos dados."
   ]
  },
  {
   "cell_type": "code",
   "execution_count": 17,
   "id": "f488b55a",
   "metadata": {},
   "outputs": [
    {
     "data": {
      "image/png": "[encoded data removed]",
      "text/plain": [
       "<Figure size 1500x600 with 1 Axes>"
      ]
     },
     "metadata": {},
     "output_type": "display_data"
    }
   ],
   "source": [
    "#Gráfico de Trial pelo Mínimo de folhas, sendo as cores correspondentes ao Trial\n",
    "figura, fig_3 = plt.subplots(figsize = (15,6))\n",
    "\n",
    "fig_3.bar(resultados_otim['Número_de_arvores'], resultados_otim['RMSE'], color='olivedrab')\n",
    "\n",
    "fig_3.set_title('Número de Árvores por RMSE', loc='center')  \n",
    "fig_3.set_xlabel('Número de Árvores')\n",
    "fig_3.set_ylabel('RMSE')\n",
    "\n",
    "plt.show()"
   ]
  },
  {
   "cell_type": "markdown",
   "id": "265f8882",
   "metadata": {},
   "source": [
    "É possível visualizar melhor a distribuição dos dados, ou seja, quais foram as quantidades de árvores que geraram os menores RMSE. Vale destacar, que o RMSE calculado não diz respeito a variação de apenas um hiperparâmetro, mas de alguns deles, sendo assim essa é uma análise pontual dos dados, tendo como objetivo apenas facilitar a observação e compreensão.\n",
    "\n",
    "Foi feito dois gráficos, ambos comparando o `Mínimo de Folhas` e o `RMSE` obtido em relação a variação desse valor, em que primeiro foi feito um histograma e depois um gráfico de barras."
   ]
  },
  {
   "cell_type": "code",
   "execution_count": 18,
   "id": "d58ced56",
   "metadata": {},
   "outputs": [
    {
     "data": {
      "image/png": "[encoded data removed]",
      "text/plain": [
       "<Figure size 1400x600 with 1 Axes>"
      ]
     },
     "metadata": {},
     "output_type": "display_data"
    }
   ],
   "source": [
    "figura, fig_4 = plt.subplots(figsize = (14,6))\n",
    "\n",
    "fig_4.hist(resultados_otim['Mín_de_folhas'], bins=20, color='olivedrab', edgecolor='black')\n",
    "\n",
    "fig_4.set_title('Histograma do Número de Mínimo de Folhas e os valores do RMSE', loc='center')  \n",
    "fig_4.set_xlabel('Mínimo de Folhas')\n",
    "fig_4.set_ylabel('RMSE')\n",
    "\n",
    "plt.show()"
   ]
  },
  {
   "cell_type": "markdown",
   "id": "fd623b4c",
   "metadata": {},
   "source": [
    "A partir desse gráfico é possível notar que números menores para o mínimo de folhas apareceram mais vezes e acumularam um RMSE maior. Enquanto isso valores maiores para o mínimo de folhas apareceram menos vezes acumulando menos RMSE."
   ]
  },
  {
   "cell_type": "code",
   "execution_count": 19,
   "id": "598405e2",
   "metadata": {},
   "outputs": [
    {
     "data": {
      "image/png": "[encoded data removed]",
      "text/plain": [
       "<Figure size 1500x600 with 1 Axes>"
      ]
     },
     "metadata": {},
     "output_type": "display_data"
    }
   ],
   "source": [
    "figura, fig_5 = plt.subplots(figsize = (15,6))\n",
    "\n",
    "fig_5.bar(resultados_otim['Mín_de_folhas'], resultados_otim['RMSE'], color='olivedrab')\n",
    "\n",
    "fig_5.set_title('Mínimo de Folhas por RMSE', loc='center')  \n",
    "fig_5.set_xlabel('Mínimo de Folhas')\n",
    "fig_5.set_ylabel('RMSE')\n",
    "\n",
    "plt.show()"
   ]
  },
  {
   "cell_type": "markdown",
   "id": "72c93a9d",
   "metadata": {},
   "source": [
    "Esse gráfico mostra que mínimos maiores tendem a apresentar um valor de RMSE maior que mínimos menores. O menor valor para o RMSE ocorreu para o mínimo de folhas igual a 3, demonstrando que esse é o melhor valor achado para o mínimo de folhas. Entretando levando em conta todos os hiperparâmetros e a junção deles o `optuna` chegou ao resultado que o melhor valor para o mínimo de folhas é 1.  \n",
    "\n",
    "Assim, comparou-se o `Mínimo de Split` e o `RMSE`, também plotando um histograma e um gráfico de barras."
   ]
  },
  {
   "cell_type": "code",
   "execution_count": 20,
   "id": "b344b36d",
   "metadata": {},
   "outputs": [
    {
     "data": {
      "image/png": "[encoded data removed]",
      "text/plain": [
       "<Figure size 1400x600 with 1 Axes>"
      ]
     },
     "metadata": {},
     "output_type": "display_data"
    }
   ],
   "source": [
    "figura, fig_6 = plt.subplots(figsize = (14,6))\n",
    "\n",
    "fig_6.hist(resultados_otim['Mín_de_split'], bins=20, color='olivedrab', edgecolor='black')\n",
    "\n",
    "fig_6.set_title('Histograma do Número de Mínimo de Divisões/Split e os valores do RMSE', loc='center')  \n",
    "fig_6.set_xlabel('Mínimo de Split')\n",
    "fig_6.set_ylabel('RMSE')\n",
    "\n",
    "plt.show()"
   ]
  },
  {
   "cell_type": "markdown",
   "id": "d411ce73",
   "metadata": {},
   "source": [
    "Para o histograma do número mínimo de split é possível notar que mínimos menores aparecem uma quantidade maior de vezes acumulando um RMSE maior."
   ]
  },
  {
   "cell_type": "code",
   "execution_count": 21,
   "id": "4229a6a8",
   "metadata": {},
   "outputs": [
    {
     "data": {
      "image/png": "[encoded data removed]",
      "text/plain": [
       "<Figure size 1500x600 with 1 Axes>"
      ]
     },
     "metadata": {},
     "output_type": "display_data"
    }
   ],
   "source": [
    "figura, fig_7 = plt.subplots(figsize = (15,6))\n",
    "\n",
    "fig_7.bar(resultados_otim['Mín_de_split'], resultados_otim['RMSE'], color='olivedrab')\n",
    "\n",
    "fig_7.set_title('Mínimo de Split por RMSE', loc='center')  \n",
    "fig_7.set_xlabel('Mínimo de Split')\n",
    "fig_7.set_ylabel('RMSE')\n",
    "\n",
    "plt.show()"
   ]
  },
  {
   "cell_type": "markdown",
   "id": "c86b070d",
   "metadata": {},
   "source": [
    "Mínimos menores tendem a apresentar um RMSE maior que mínimos maiores, entretanto, o menor valor para o RMSE que pode ser observado no gráfico ocorre para o mínimo igual a 9. Considerando todos os hiperparâmetros o `Optuna` deu um resultado para o melhor mínimo de split igual a 3."
   ]
  },
  {
   "cell_type": "markdown",
   "id": "2c5476e9",
   "metadata": {},
   "source": [
    "### Aplicando o modelo de floresta aleatória para treinar e testar os dados"
   ]
  },
  {
   "cell_type": "markdown",
   "id": "933843f0",
   "metadata": {},
   "source": [
    "Assim, foi instanciado o modelo utilizando os hiperparâmetros encontrados a partir da otimização feita com o `Optuna` e com a Validação cruzada, e então fitado com os dados treino. Por fim, foi testado o modelo final com os **dados de teste**."
   ]
  },
  {
   "cell_type": "code",
   "execution_count": 22,
   "id": "a8148887",
   "metadata": {},
   "outputs": [
    {
     "name": "stdout",
     "output_type": "stream",
     "text": [
      "5331181.0112207085\n"
     ]
    }
   ],
   "source": [
    "from sklearn.metrics import mean_squared_error\n",
    "\n",
    "modelo = cria_instancia_modelo(melhor_trial)\n",
    "modelo.fit(E_treino, s_treino)\n",
    "\n",
    "s_verdadeiro = s_teste\n",
    "s_previsao = modelo.predict(E_teste)\n",
    "\n",
    "RMSE = mean_squared_error(s_verdadeiro, s_previsao) ** (1/2)\n",
    "\n",
    "print(RMSE)"
   ]
  },
  {
   "cell_type": "markdown",
   "id": "0103cfe3",
   "metadata": {},
   "source": [
    "Por fim, se obteve um modelo de algoritmo de `Floresta Aleatória` com um RMSE ainda menor do que aquele previsto nos treinos feitos com o otimizador, mostrando que foi encontrado um bom modelo, com um RMSE baixo e com boas predições utilizando um modelo que busca diminuir o viés e aumentar a variância em relação a outros modelos como a `Árvore de Decisão`. As implementações de otimização e validação também foram muito importantes para gerar bons resultados."
   ]
  },
  {
   "cell_type": "markdown",
   "id": "824fbe08",
   "metadata": {},
   "source": [
    "### Analisando a importância dos atributos, para compreender se algum deles tem uma influência maior"
   ]
  },
  {
   "cell_type": "markdown",
   "id": "84cf5811",
   "metadata": {},
   "source": [
    "Para concluir, foi feita uma última análise para compreender quais os atributos do DataFrame tiveram maior importância para as predições feitas pelo modelo de `Floresta Aleatória`."
   ]
  },
  {
   "cell_type": "code",
   "execution_count": 23,
   "id": "6baed604",
   "metadata": {},
   "outputs": [
    {
     "data": {
      "image/png": "[encoded data removed]",
      "text/plain": [
       "<Figure size 640x480 with 1 Axes>"
      ]
     },
     "metadata": {},
     "output_type": "display_data"
    }
   ],
   "source": [
    "import seaborn as sns\n",
    "\n",
    "importancia = modelo.feature_importances_\n",
    "\n",
    "eixo = sns.barplot(x=entradas, y=importancia, color = 'olivedrab')\n",
    "eixo.set_ylabel(\"Importância relativa\");"
   ]
  },
  {
   "cell_type": "markdown",
   "id": "bc799258",
   "metadata": {},
   "source": [
    "Pode-se analisar uma grande variação de importância de cada dado para o treinamento, o que pode ser uma ferramenta de auxílio na hora de analisar os dados do DataFrame, e em alguns casos até mesmo a escolher os atributos. Vale ressaltar que iss não diminui a importancia de nenhum desses dados nos estudos sobre ecologia."
   ]
  },
  {
   "cell_type": "markdown",
   "id": "79abfef2",
   "metadata": {},
   "source": [
    "# 🔚Conclusão"
   ]
  },
  {
   "cell_type": "markdown",
   "id": "d7dbbb6a",
   "metadata": {},
   "source": [
    "A partir das análises realizadas no notebook, tais como os gráficos plotados e os valores de RMSE cálculados. Essas análises tornam possível concluir que a  Floresta Aleatória foi uma estratégia eficaz para o treinamento do conjunto de dados escolhido. Isso se torna notório uma vez que os valores de RMSE apresentados foram baixos, sendo esses em torno de $6\\cdot10^6$. Tal valor é considerado bom devido ao fato da escala dos dados ser elevada. Sendo que, para grandes escalas de dados um RMSE de até $1\\cdot10^7$ é considerado satisfatório. O RMSE é um valor importante, pois quantifica a diferença entre os valores preditos pelo modelo e os valores reais observados. Dessa forma, um RMSE baixo indica que o modelo está fazendo previsões mais precisas, assim, os resultados preditos são mais confiáveis.\n",
    "\n",
    "Com isso, pode-se concluir que a hipótese proposta pelo grupo no ínicio do projeto é válida. Sendo assim, é possível utilizar Aprendizagem de Máquina, tendo como ponto de partida dados coletados (tais como: área agrícola, área de pastagem, área florestal, área de pesca e áreas construídas), para prever o valor da pegada ecológica total de uma região."
   ]
  },
  {
   "cell_type": "markdown",
   "id": "468a5a05",
   "metadata": {},
   "source": [
    "# Referências"
   ]
  },
  {
   "cell_type": "markdown",
   "id": "b59e51b8",
   "metadata": {},
   "source": [
    "[1] Floresta Aleatória: Cassar, Daneil R. \"ATP-203 5.1 - Floresta aleatória\". Disponível em material didático. \n",
    "\n",
    "[2] Hiperparâmetros: Cassar, Daneil R. \"ATP-203 4.1 - Árvore de decisão\". Disponível em material didático. \n",
    "\n",
    "[3] Hiperparâmetros Floresta Aleatória: “RandomForestRegressor”. Scikit-Learn, https://scikit-learn/stable/modules/generated/sklearn.ensemble.RandomForestRegressor.html. Acesso em 14 de outubro de 2024.\n",
    "\n",
    "[4] Optuna: Cassar, Daneil R. \"ATP-203 6.1 - Otimização de hiperparâmetros com optuna\". Disponível em material didático.\n",
    "\n",
    "[5] Optuna: FAQ — Optuna 4.0.0 documentation. https://optuna.readthedocs.io/en/stable/faq.html#how-can-i-obtain-reproducible-optimization-results. Acesso em 14 de outubro de 2024.\n",
    "\n",
    "[6] Raschka, Sebastian. Model Evaluation, Model Selection, and Algorithm Selection in Machine Learning\n",
    "\n",
    "[7] Silva, Josenildo Costa da. “O Algoritmo Da Floresta Aleatória”. Machina Sapiens, 13 de março de 2018, https://medium.com/machina-sapiens/o-algoritmo-da-floresta-aleat%C3%B3ria-3545f6babdf8."
   ]
  }
 ],
 "metadata": {
  "kernelspec": {
   "display_name": "ilumpy",
   "language": "python",
   "name": "ilumpy"
  },
  "language_info": {
   "codemirror_mode": {
    "name": "ipython",
    "version": 3
   },
   "file_extension": ".py",
   "mimetype": "text/x-python",
   "name": "python",
   "nbconvert_exporter": "python",
   "pygments_lexer": "ipython3",
   "version": "3.11.6"
  }
 },
 "nbformat": 4,
 "nbformat_minor": 5
}
